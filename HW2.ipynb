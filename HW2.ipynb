{
 "cells": [
  {
   "cell_type": "code",
   "execution_count": null,
   "metadata": {},
   "outputs": [],
   "source": [
    "# task1\n",
    "x1=int(input())\n",
    "y1=int(input())\n",
    "x2=int(input())\n",
    "y2=int(input())\n",
    "if x1==x2 or y1==y2:\n",
    "    print(\"YES\")\n",
    "else:\n",
    "    print(\"NO\")"
   ]
  },
  {
   "cell_type": "code",
   "execution_count": null,
   "metadata": {},
   "outputs": [],
   "source": [
    "# task2\n",
    "x1=int(input())\n",
    "y1=int(input())\n",
    "x2=int(input())\n",
    "y2=int(input())\n",
    "if x1-1<=x2<=x1+1 and y1-1<=y2<=y1+1:\n",
    "    print(\"YES\")\n",
    "else:\n",
    "    print(\"NO\")"
   ]
  },
  {
   "cell_type": "code",
   "execution_count": null,
   "metadata": {},
   "outputs": [],
   "source": [
    "# task3\n",
    "x1=int(input())\n",
    "y1=int(input())\n",
    "x2=int(input())\n",
    "y2=int(input())\n",
    "if abs(x2-x1)==abs(y2-y1):\n",
    "    print(\"YES\")\n",
    "else:\n",
    "    print(\"NO\")"
   ]
  },
  {
   "cell_type": "code",
   "execution_count": null,
   "metadata": {},
   "outputs": [],
   "source": [
    "# task4\n",
    "x1=int(input())\n",
    "y1=int(input())\n",
    "x2=int(input())\n",
    "y2=int(input())\n",
    "if abs(x2-x1)==abs(y2-y1) or x1==x2 or y1==y2:\n",
    "    print(\"YES\")\n",
    "else:\n",
    "    print(\"NO\")"
   ]
  },
  {
   "cell_type": "code",
   "execution_count": null,
   "metadata": {},
   "outputs": [],
   "source": [
    "# task5\n",
    "x1=int(input())\n",
    "y1=int(input())\n",
    "x2=int(input())\n",
    "y2=int(input())\n",
    "if (abs(x1-x2)==1 or abs(x1-x2)==2) and (abs(y1-y2)==1 or abs(y1-y2)==2):\n",
    "    print(\"YES\")\n",
    "else:\n",
    "    print(\"NO\")"
   ]
  },
  {
   "cell_type": "code",
   "execution_count": null,
   "metadata": {},
   "outputs": [],
   "source": [
    "# task6\n",
    "n=int(input())\n",
    "m=int(input())\n",
    "k=int(input())\n",
    "if (k%n==0 or k%m==0) and k<=n*m:\n",
    "    print(\"YES\")\n",
    "else:\n",
    "    print(\"NO\")"
   ]
  },
  {
   "cell_type": "code",
   "execution_count": null,
   "metadata": {},
   "outputs": [],
   "source": [
    "# task7\n",
    "x=int(input())\n",
    "y=int(input())\n",
    "n=int(input())\n",
    "m=int(input())\n",
    "print(min(x,y,n,m))"
   ]
  },
  {
   "cell_type": "code",
   "execution_count": null,
   "metadata": {},
   "outputs": [],
   "source": [
    "# task8\n",
    "a=[]\n",
    "x=int(input())\n",
    "y=int(input())\n",
    "n=int(input())\n",
    "a.append(x)\n",
    "a.append(y)\n",
    "a.append(n)\n",
    "a.sort()\n",
    "print(a[0],a[1],a[2])"
   ]
  },
  {
   "cell_type": "code",
   "execution_count": null,
   "metadata": {},
   "outputs": [],
   "source": [
    "# task9\n",
    "a1=int(input())\n",
    "b1=int(input())\n",
    "c1=int(input())\n",
    "a2=int(input())\n",
    "b2=int(input())\n",
    "c2=int(input())\n",
    "box1=a1*b1*c1\n",
    "box2=a2*b2*c2\n",
    "if box1==box2:\n",
    "    print(\"Boxes are equal\")\n",
    "elif box1<box2:\n",
    "    print(\"the first box is smaller than the second one\")\n",
    "else:\n",
    "    print(\"the first box is larger than the second one\")"
   ]
  },
  {
   "cell_type": "code",
   "execution_count": null,
   "metadata": {},
   "outputs": [],
   "source": [
    "# task10\n",
    "x=int(input())\n",
    "i=1\n",
    "while(i**2<=x):\n",
    "    print(i**2,end=' ')\n",
    "    i+=1\n"
   ]
  },
  {
   "cell_type": "code",
   "execution_count": null,
   "metadata": {},
   "outputs": [],
   "source": [
    "# task11\n",
    "x=int(input())\n",
    "i=2\n",
    "while(True):\n",
    "    if x%i==0:\n",
    "        print(i)\n",
    "        break\n",
    "    else:\n",
    "        i+=1"
   ]
  },
  {
   "cell_type": "code",
   "execution_count": null,
   "metadata": {},
   "outputs": [],
   "source": [
    "# task12\n",
    "x=int(input())\n",
    "i=2\n",
    "while(i*2<=x):\n",
    "    i=i*2\n",
    "    print(i,end=' ')"
   ]
  },
  {
   "cell_type": "code",
   "execution_count": null,
   "metadata": {},
   "outputs": [],
   "source": [
    "# task13\n",
    "i=0\n",
    "while(True):\n",
    "    x=int(input())\n",
    "    if x==0:\n",
    "        print(i)\n",
    "        break\n",
    "    i+=x"
   ]
  },
  {
   "cell_type": "code",
   "execution_count": null,
   "metadata": {},
   "outputs": [],
   "source": [
    "# task14\n",
    "a=[]\n",
    "while(True):\n",
    "    x=int(input())\n",
    "    if x==0:\n",
    "        break\n",
    "    a.append(x)\n",
    "m=max(a)\n",
    "e=0\n",
    "for i in a:\n",
    "    if i==m:\n",
    "        e+=1\n",
    "print(e)"
   ]
  },
  {
   "cell_type": "code",
   "execution_count": null,
   "metadata": {},
   "outputs": [],
   "source": [
    "# task15\n",
    "n=int(input())\n",
    "if n==0:\n",
    "    print(0)\n",
    "elif n==1:\n",
    "    print(1)\n",
    "else:\n",
    "    a=0\n",
    "    b=1\n",
    "    c=0\n",
    "    cnt=2\n",
    "    while 1:\n",
    "        c=a+b\n",
    "        a=b\n",
    "        b=c\n",
    "        cnt+=1\n",
    "        if b>=n:\n",
    "            break\n",
    "        \n",
    "    if n==b:\n",
    "        print(cnt-1)\n",
    "    else:\n",
    "        \n",
    "        print(-1)"
   ]
  },
  {
   "cell_type": "code",
   "execution_count": null,
   "metadata": {},
   "outputs": [],
   "source": [
    "# task16\n",
    "a=[]\n",
    "while(True):\n",
    "    x=int(input())\n",
    "    if x==0:\n",
    "        break\n",
    "    else:\n",
    "        a.append(x)\n",
    "total=0\n",
    "for i in range(1,len(a)):\n",
    "    if i==0 or i==len(a):\n",
    "        continue\n",
    "    elif a[i-1]<a[i] and a[i+1]<a[i]:\n",
    "        total+=1\n",
    "print(total"
   ]
  },
  {
   "cell_type": "code",
   "execution_count": null,
   "metadata": {},
   "outputs": [],
   "source": [
    "# task17\n",
    "n=int(input())\n",
    "myset=set()\n",
    "while(n!=0):\n",
    "    x=int(input())\n",
    "    myset.add(x)\n",
    "    n-=1\n",
    "print(len(myset))"
   ]
  },
  {
   "cell_type": "code",
   "execution_count": null,
   "metadata": {},
   "outputs": [],
   "source": [
    "# task18\n",
    "a=[]\n",
    "n=int(input())\n",
    "while(n!=0):\n",
    "    x=int(input())\n",
    "    a.append(x)\n",
    "    n-=1\n",
    "n=a[0]\n",
    "m=a[len(a)-1]\n",
    "a[0]=m\n",
    "a[len(a)-1]=n\n",
    "for i in a:\n",
    "    print(i,end=' ')"
   ]
  },
  {
   "cell_type": "code",
   "execution_count": null,
   "metadata": {},
   "outputs": [],
   "source": [
    "# task19\n",
    "n=int(input())\n",
    "m=n\n",
    "myset=set()\n",
    "while(n!=0):\n",
    "    x=int(input())\n",
    "    myset.add(x)\n",
    "    n-=1\n",
    "print(m-len(myset))"
   ]
  },
  {
   "cell_type": "code",
   "execution_count": null,
   "metadata": {},
   "outputs": [],
   "source": [
    "# task20\n",
    "n,m=map(int,input().split())\n",
    "a=[]\n",
    "for i in range(n):\n",
    "    a.append(0)\n",
    "while(m>0):\n",
    "    x,y= map(int,input().split())\n",
    "    for i in range(n):\n",
    "        if i+1>=x and i+1<=y:\n",
    "            a[i]=1\n",
    "    m-=1\n",
    "for i in range(n):\n",
    "    if a[i]==0:\n",
    "        print(\"I\",end='')\n",
    "    else:print(\".\",end='')"
   ]
  }
 ],
 "metadata": {
  "kernelspec": {
   "display_name": "Python 3",
   "language": "python",
   "name": "python3"
  },
  "language_info": {
   "codemirror_mode": {
    "name": "ipython",
    "version": 3
   },
   "file_extension": ".py",
   "mimetype": "text/x-python",
   "name": "python",
   "nbconvert_exporter": "python",
   "pygments_lexer": "ipython3",
   "version": "3.8.3"
  }
 },
 "nbformat": 4,
 "nbformat_minor": 4
}
