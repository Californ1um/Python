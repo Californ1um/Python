{
 "cells": [
  {
   "cell_type": "code",
   "execution_count": 1,
   "metadata": {},
   "outputs": [
    {
     "name": "stdout",
     "output_type": "stream",
     "text": [
      "Miras Begali Vostochnyi, 15\n"
     ]
    }
   ],
   "source": [
    "#Mailing Address\n",
    "print (\"Miras Begali Vostochnyi, 15\")"
   ]
  },
  {
   "cell_type": "code",
   "execution_count": 2,
   "metadata": {},
   "outputs": [
    {
     "name": "stdout",
     "output_type": "stream",
     "text": [
      "What is your name? Miras\n",
      "Hello ,  Miras\n"
     ]
    }
   ],
   "source": [
    "#Hello\n",
    "name = input (\"What is your name? \")\n",
    "print (\"Hello , \" , name)"
   ]
  },
  {
   "cell_type": "code",
   "execution_count": 22,
   "metadata": {},
   "outputs": [
    {
     "name": "stdout",
     "output_type": "stream",
     "text": [
      "Enter width in meters - 3\n",
      "Enter length in meters - 2\n",
      "Room area equal to 6.0\n"
     ]
    }
   ],
   "source": [
    "#Area of a Room\n",
    "a = float (input (\"Enter width in meters - \"))\n",
    "b = float (input (\"Enter length in meters - \"))\n",
    "area = a * b\n",
    "print (\"Room area equal to\" , area)"
   ]
  },
  {
   "cell_type": "code",
   "execution_count": 27,
   "metadata": {},
   "outputs": [
    {
     "name": "stdout",
     "output_type": "stream",
     "text": [
      "Enter width in feet - 1200\n",
      "Enter length in feet - 600\n",
      "The farm area equal to -  16.52892561983471 arces\n"
     ]
    }
   ],
   "source": [
    "#Area of a Field\n",
    "a = float (input (\"Enter width in feet - \"))\n",
    "b = float (input (\"Enter length in feet - \"))\n",
    "area_in_feet = a * b\n",
    "area_in_acres = float (area_in_feet) / 43560\n",
    "print (\"The farm area equal to - \" , area_in_acres , (\"arces\"))"
   ]
  },
  {
   "cell_type": "code",
   "execution_count": 40,
   "metadata": {},
   "outputs": [
    {
     "name": "stdout",
     "output_type": "stream",
     "text": [
      "Number of bottles 1 or less liter -120\n",
      "Number of bottles over 1 liter -240\n",
      "72.0\n"
     ]
    }
   ],
   "source": [
    "#Bottle Deposits\n",
    "a = int (input (\"Number of bottles 1 or less liter -\"))\n",
    "b = int (input (\"Number of bottles over 1 liter -\"))\n",
    "c= a * 0.1 + b * 0.25\n",
    "print (c)"
   ]
  },
  {
   "cell_type": "code",
   "execution_count": 1,
   "metadata": {},
   "outputs": [
    {
     "name": "stdout",
     "output_type": "stream",
     "text": [
      "Cost of Meal Order -2500\n",
      "2500.0 450.0 250.0 1800.0\n"
     ]
    }
   ],
   "source": [
    "#Tax and Tip \n",
    "a = float (input (\"Cost of Meal Order - \"))\n",
    "b = a * 0.18            #B is the tip\n",
    "c = a * 0.10            #C is the tax\n",
    "d = a * 0.72            #D is the order cost without any taxes and tip\n",
    "print (a , b , c , d)"
   ]
  },
  {
   "cell_type": "code",
   "execution_count": 5,
   "metadata": {},
   "outputs": [
    {
     "name": "stdout",
     "output_type": "stream",
     "text": [
      "Enter the integer - 9\n",
      "45.0\n"
     ]
    }
   ],
   "source": [
    "#Sum of the First n Positive Integers \n",
    "n = int (input (\"Enter the integer - \"))\n",
    "sum = n*(n+1)/2\n",
    "print (sum)"
   ]
  },
  {
   "cell_type": "code",
   "execution_count": 6,
   "metadata": {},
   "outputs": [
    {
     "name": "stdout",
     "output_type": "stream",
     "text": [
      "Number of Widgets - 8\n",
      "Number of Gizmos - 9\n",
      "1608 gr\n",
      "1.608 kg\n"
     ]
    }
   ],
   "source": [
    "#Widgets and Gizmos\n",
    "a = int (input (\"Number of Widgets - \"))\n",
    "b = int (input (\"Number of Gizmos - \"))\n",
    "sum_1 = a * 75 + b * 112\n",
    "sum_2 = int(sum_1) / 1000\n",
    "print (sum_1 , \"gr\")\n",
    "print (sum_2 , \"kg\")"
   ]
  },
  {
   "cell_type": "code",
   "execution_count": 8,
   "metadata": {},
   "outputs": [
    {
     "name": "stdout",
     "output_type": "stream",
     "text": [
      "Starting Money - 2500000.48\n",
      "2600000.50\n",
      "2704000.52\n",
      "2812160.54\n"
     ]
    }
   ],
   "source": [
    "#Compound Interest \n",
    "n = float (input (\"Starting Money - \"))\n",
    "year1 = n * 1.04\n",
    "year2 = float(year1) * 1.04\n",
    "year3 = float(year2) * 1.04\n",
    "print (\"%.2f\" % year1)\n",
    "print (\"%.2f\" % year2)\n",
    "print (\"%.2f\" % year3)"
   ]
  },
  {
   "cell_type": "code",
   "execution_count": 1,
   "metadata": {},
   "outputs": [
    {
     "name": "stdout",
     "output_type": "stream",
     "text": [
      "Please enter a: 5\n",
      "Please enter b: 6\n",
      "The sum: 11\n",
      "The difference: -1\n",
      "The product: 30\n",
      "The quotient: 0.8333333333333334\n",
      "The remainder: 5\n",
      "Result of log10a: 0.6989700043360189\n",
      "Result of a to the power of b: 15625\n"
     ]
    }
   ],
   "source": [
    "#Arithmetic\n",
    "import math\n",
    "\n",
    "a = int(input(\"Please enter a: \"))\n",
    "b = int(input(\"Please enter b: \"))\n",
    "\n",
    "sum = a + b\n",
    "difference = a - b\n",
    "product = a * b\n",
    "quotient = a / b\n",
    "remainder = a % b\n",
    "log10 = math.log10(a)\n",
    "powered = a ** b\n",
    "\n",
    "print(\"The sum: {}\".format(sum))\n",
    "print(\"The difference: {}\".format(difference))\n",
    "print(\"The product: {}\".format(product))\n",
    "print(\"The quotient: {}\".format(quotient))\n",
    "print(\"The remainder: {}\".format(remainder))\n",
    "print(\"Result of log10a: {}\".format(log10))\n",
    "print(\"Result of a to the power of b: {}\".format(powered))"
   ]
  },
  {
   "cell_type": "code",
   "execution_count": 7,
   "metadata": {
    "scrolled": true
   },
   "outputs": [
    {
     "name": "stdout",
     "output_type": "stream",
     "text": [
      "Сколько галлонов было использовано ?12\n",
      "28.390575 литров ухдит на 100 км\n"
     ]
    }
   ],
   "source": [
    "#Fuel Efﬁciency\n",
    "a = float (input (\"Сколько галлонов было использовано ?\"))\n",
    "b = a * 3.78541 / 1.6\n",
    "print (b , \"литров ухдит на 100 км\")"
   ]
  },
  {
   "cell_type": "code",
   "execution_count": null,
   "metadata": {},
   "outputs": [],
   "source": [
    "#Distance Between Two Points on Earth\n",
    "import math\n",
    "\n",
    "t1 = float(input(\"Please enter the x value of a point on Earth in degrees: \"))\n",
    "t2 = float(input(\"Please enter the y value for that point on Earth in degrees: \"))\n",
    "\n",
    "g1 = float(input(\"Please enter the x value of a 2nd point on Earth in degrees: \"))\n",
    "g2 = float(input(\"Please enter the y value for that point on Earth in degrees: \"))\n",
    "\n",
    "distance = 6371.01 * math.acos(math.sin(math.radians(t1)) * math.sin(math.radians(g1)) + \\\n",
    "math.cos(math.radians(t1)) * math.cos(math.radians(g1)) * math.cos(math.radians(t2-g2)))\n",
    "\n",
    "print(\"The distance between these two points on Earth is {}km\".format(distance))"
   ]
  },
  {
   "cell_type": "code",
   "execution_count": null,
   "metadata": {},
   "outputs": [],
   "source": [
    "#Making Change\n",
    "cents = int(input(\"Please enter a number of cents: \"))\n",
    "\n",
    "toonies = int(cents / 200) # A toonie is a Canadian name for a $2 coin\n",
    "cents -= toonies * 200\n",
    "\n",
    "loonies = int(cents / 100) # A toonie is a Canadian name for a $1 coin\n",
    "cents -= loonies * 100\n",
    "\n",
    "quarters = int(cents/25) # A quarter is 25 cents\n",
    "cents -= quarters * 25\n",
    "\n",
    "dimes = int(cents/10) # A dime is 10 cent\n",
    "cents -= dimes * 10\n",
    "\n",
    "nickels = int(cents/5) # A nickel is 5 cent\n",
    "\n",
    "pennies = cents\n",
    "\n",
    "print(\"The change using the smallest amount of change is...\")\n",
    "print(\"{} toonies, {} loonies, {} quarters, {} dimes, {} nickels, {} pennies\".format(toonies, loonies, quarters, dimes, nickels, pennies))"
   ]
  },
  {
   "cell_type": "code",
   "execution_count": null,
   "metadata": {},
   "outputs": [],
   "source": [
    "#Height Units\n",
    "feet = int(input(\"How many feet: \"))\n",
    "inches = int(input(\"How many inches: \"))\n",
    "\n",
    "inches += feet * 12\n",
    "\n",
    "metres = inches * 2.54\n",
    "\n",
    "print(\"This height is {}m.\".format"
   ]
  },
  {
   "cell_type": "code",
   "execution_count": null,
   "metadata": {},
   "outputs": [],
   "source": [
    "#Distance Units\n",
    "import math\n",
    "\n",
    "r = float(input(\"Please enter a radius r: \"))\n",
    "\n",
    "area = math.pi * (r * r)\n",
    "vol = (4/3) * math.pi * (r * r * r)\n",
    "\n",
    "print(\"The area of a circle with radius r is {} units squared.\".format(area))\n",
    "print(\"The volume of a sphere with radius r is {} units cubed.\".format(vol))"
   ]
  },
  {
   "cell_type": "code",
   "execution_count": null,
   "metadata": {},
   "outputs": [],
   "source": [
    "#Heat Capacity\n",
    "mass = float(input(\"Please enter the mass of some water in grams: \"))\n",
    "tempChange = float(input(\"Please enter the temperature changein degrees Celsius: \"))\n",
    "\n",
    "C = 4.186 # Water's heat capacity is 4.186 Joules\n",
    "joules = mass * C * tempChange\n",
    "\n",
    "print(\"Total amount of energy used in Joules is {}.\".format(joules))\n",
    "\n",
    "costPerKiloWattHour = 8.9 # Taken from the question\n",
    "kiloWattHours = joules * 2.7778e-7 # Converts from Joules to kilowatt-hours\n",
    "\n",
    "cost = kiloWattHours * costPerKiloWattHour\n",
    "\n",
    "print(\"The total cost of this is ${}.\".format(cost))"
   ]
  },
  {
   "cell_type": "code",
   "execution_count": null,
   "metadata": {},
   "outputs": [],
   "source": [
    "#Heat Capacity 9\n",
    "import math\n",
    "\n",
    "radius = float(input(\"Please enter a radius for a cylinder: \"))\n",
    "height = float(input(\"Please enter the height of than cylinder: \"))\n",
    "\n",
    "volume = math.pi * (radius*radius) * height\n",
    "\n",
    "print(\"The volume of this cylinder is {0:0.01f} units cubed.\".format(volume))"
   ]
  },
  {
   "cell_type": "code",
   "execution_count": null,
   "metadata": {},
   "outputs": [],
   "source": [
    "#Free Fall\n",
    "import math\n",
    "\n",
    "height = float(input(\"Please enter a height from which an object is dropped from in meters: \"))\n",
    "\n",
    "acceleration = 9.8\n",
    "finalVelocity = math.sqrt(2*acceleration*height)\n",
    "\n",
    "print(\"The final velocity when the object hits the ground is {}m/s^2.\".format(finalVelocity))"
   ]
  },
  {
   "cell_type": "code",
   "execution_count": null,
   "metadata": {},
   "outputs": [],
   "source": [
    "#Ideal Gas Law\n",
    "P = float(input(\"Please enter a pressure in Pascals: \"))\n",
    "V = float(input(\"Please enter a volume in liters: \"))\n",
    "T = float(input(\"Please enter a temperature in Kelvin: \"))\n",
    "\n",
    "R = 8.314\n",
    "\n",
    "n = (P*V) / (R*T)\n",
    "\n",
    "print(\"The amount of gas in moles for these conditions is {}.\".format(n))"
   ]
  },
  {
   "cell_type": "code",
   "execution_count": null,
   "metadata": {},
   "outputs": [],
   "source": [
    "#Area of a Triangle\n",
    "base = float(input(\"Please enter the base of a triangle in units: \"))\n",
    "height = float(input(\"Please enter the perpendicular height of that triangle in units: \"))\n",
    "\n",
    "area = (base*height) / 2\n",
    "\n",
    "print(\"The area of this triangle is {} units squared.\".format(area))"
   ]
  },
  {
   "cell_type": "code",
   "execution_count": null,
   "metadata": {},
   "outputs": [],
   "source": [
    "#Area of a Triangle (Again)\n",
    "import math\n",
    "\n",
    "s1 = float(input(\"Please enter side a of a triangle: \"))\n",
    "s2 = float(input(\"Please enter side b of a triangle: \"))\n",
    "s3= float(input(\"Please enter side c of a triangle: \"))\n",
    "\n",
    "s = (s1+s2+s3) / 2\n",
    "\n",
    "area = math.sqrt(s * (s-s1) * (s-s2) * (s-s3))\n",
    "\n",
    "print(\"The area of the triangle is {} units squared.\".format(area))"
   ]
  },
  {
   "cell_type": "code",
   "execution_count": null,
   "metadata": {},
   "outputs": [],
   "source": [
    "#Area of a Regular Polygon\n",
    "import math\n",
    "\n",
    "s = float(input(\"Please enter the size of a side of a regular polygon: \"))\n",
    "n = float(input(\"Please enter the number of these sides in the regular polygon: \"))\n",
    "\n",
    "area = (n * (s*s)) / (4 * math.tan(math.pi/n))\n",
    "\n",
    "print(\"The area of this polygon is {} units squared.\".format(area))"
   ]
  },
  {
   "cell_type": "code",
   "execution_count": null,
   "metadata": {},
   "outputs": [],
   "source": [
    "#Units of Time\n",
    "days = int(input(\"Please enter a number of days: \"))\n",
    "hours = int(input(\"Please enter a number of hours: \"))\n",
    "minutes = int(input(\"Please enter a number of minutes: \"))\n",
    "seconds = int(input(\"Please enter a number of seconds: \"))\n",
    "\n",
    "totalSeconds = seconds\n",
    "totalSeconds += minutes * 60\n",
    "totalSeconds += hours * 60 * 60\n",
    "totalSeconds += days * 60 * 60 * 24\n",
    "\n",
    "print(\"The total number of seconds is {}.\".format(totalSeconds))"
   ]
  },
  {
   "cell_type": "code",
   "execution_count": null,
   "metadata": {},
   "outputs": [],
   "source": [
    "#Units of Time (Again)\n",
    "totalSeconds = int(input(\"Please enter a number of seconds: \"))\n",
    "\n",
    "days = int(totalSeconds / 60 / 60 / 24)\n",
    "totalSeconds -= days * 60 * 60 * 24\n",
    "\n",
    "hours = int(totalSeconds / 60 / 60)\n",
    "totalSeconds -= hours * 60 * 60\n",
    "\n",
    "minutes = int(totalSeconds / 60)\n",
    "totalSeconds -= minutes * 60\n",
    "\n",
    "seconds = totalSeconds\n",
    "\n",
    "print(\"In the form D:H:M:S : {}:{}:{}:{}\".format(days, hours, minutes, seconds))"
   ]
  },
  {
   "cell_type": "code",
   "execution_count": null,
   "metadata": {},
   "outputs": [],
   "source": [
    "#Current Time\n",
    "import time\n",
    "\n",
    "print(time.asctime())"
   ]
  },
  {
   "cell_type": "code",
   "execution_count": null,
   "metadata": {},
   "outputs": [],
   "source": [
    "#Body Mass Index\n",
    "height = float(input(\"Please enter a height in metres: \"))\n",
    "weight = float(input(\"Please enter a weight in kilograms: \"))\n",
    "\n",
    "BMI = (weight)  / (height * height)\n",
    "\n",
    "print(\"The BMI of this person's height and weight is {}.\".format(BMI))"
   ]
  },
  {
   "cell_type": "code",
   "execution_count": null,
   "metadata": {},
   "outputs": [],
   "source": [
    "#Wind Chill\n",
    "airTemp = float(input(\"Please enter an air temperature: \"))\n",
    "windSpeed = float(input(\"Please enter the corresponding wind speed: \"))\n",
    "\n",
    "WCI = 13.12 + (0.6215*airTemp) - (11.37*(windSpeed**0.16)) + (0.3965*airTemp*(windSpeed**0.16))\n",
    "\n",
    "print(\"The WCI (Wind Chill Index) is {}.\".format(WCI))"
   ]
  },
  {
   "cell_type": "code",
   "execution_count": null,
   "metadata": {},
   "outputs": [],
   "source": [
    "#Celsius to Fahrenheit and Kelvin\n",
    "celsius = float(input(\"Please enter a temperature in Celsius: \"))\n",
    "\n",
    "fahrenheit = celsius * (9/5) + 32\n",
    "kelvin = celsius + 273.15\n",
    "\n",
    "print(\"In Fahrenheit: {}\".format(fahrenheit))\n",
    "print(\"In Kelvin: {}\".format(kelvin))"
   ]
  },
  {
   "cell_type": "code",
   "execution_count": null,
   "metadata": {},
   "outputs": [],
   "source": [
    "#Units of Pressure\n",
    "kiloPascals = float(input(\"Please enter a pressure in kilo-pascals: \"))\n",
    "\n",
    "PSI = kiloPascals * 0.145037738\n",
    "mmOfMercury = kiloPascals * 7.50062\n",
    "atmospheres = kiloPascals / 101.3\n",
    "\n",
    "print()\n",
    "print(\"In Pounds Per Square Inch (PSI): {}\".format(PSI))\n",
    "print(\"In Millimetres Of Mercury (mmHg): {}\".format(mmOfMercury))\n",
    "print(\"In Atmospheres (atm): {}\".format(atmospheres))"
   ]
  },
  {
   "cell_type": "code",
   "execution_count": null,
   "metadata": {},
   "outputs": [],
   "source": [
    "#Sum of the Digits in an Integer\n",
    "number = input(\"Please enter a four digit integer: \")\n",
    "\n",
    "sum = int(number[0])\n",
    "sum += int(number[1])\n",
    "sum += int(number[2])\n",
    "sum += int(number[3])\n",
    "\n",
    "print(\"The sum of the four digits in the number is {}.\".format(sum))"
   ]
  },
  {
   "cell_type": "code",
   "execution_count": null,
   "metadata": {},
   "outputs": [],
   "source": [
    "#Sort 3 Integers\n",
    "firstNumber = int(input(\"Please enter the first number: \"))\n",
    "secondNumber = int(input(\"Plase enter the second number: \"))\n",
    "thirdNumber = int(input(\"Please enter the third number: \"))\n",
    "\n",
    "smallest = min(firstNumber, secondNumber, thirdNumber)\n",
    "largest = max(firstNumber, secondNumber, thirdNumber)\n",
    "middle = (firstNumber+secondNumber+thirdNumber) - smallest - largest\n",
    "\n",
    "print(\"The values ordered smallest to largest is: {}, {}, {}.\".format(smallest, middle, largest))"
   ]
  },
  {
   "cell_type": "code",
   "execution_count": null,
   "metadata": {},
   "outputs": [],
   "source": [
    "#Day Old Bread\n",
    "noOfDayOldBreadLoaves = int(input(\"Please enter the number of day old loves of bread being purchased: \"))\n",
    "\n",
    "dayOldDis\n",
    "count = 0.60 # 60% discount\n",
    "\n",
    "regularPrice = noOfDayOldBreadLoaves * 3.49\n",
    "discountedPrice = noOfDayOldBreadLoaves * (3.49 * dayOldDiscount)\n",
    "\n",
    "print(\"Regular price is ${:.2f}.\".format(regularPrice))\n",
    "print(\"Discounted price is ${:.2f}.\".format(discountedPrice))"
   ]
  }
 ],
 "metadata": {
  "kernelspec": {
   "display_name": "Python 3",
   "language": "python",
   "name": "python3"
  },
  "language_info": {
   "codemirror_mode": {
    "name": "ipython",
    "version": 3
   },
   "file_extension": ".py",
   "mimetype": "text/x-python",
   "name": "python",
   "nbconvert_exporter": "python",
   "pygments_lexer": "ipython3",
   "version": "3.8.3"
  }
 },
 "nbformat": 4,
 "nbformat_minor": 4
}
